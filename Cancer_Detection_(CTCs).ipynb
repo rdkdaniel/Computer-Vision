{
  "nbformat": 4,
  "nbformat_minor": 0,
  "metadata": {
    "colab": {
      "name": "Cancer Detection (CTCs)",
      "provenance": [],
      "authorship_tag": "ABX9TyM0RjBeEvXBE51VomKHestX",
      "include_colab_link": true
    },
    "kernelspec": {
      "name": "python3",
      "display_name": "Python 3"
    },
    "language_info": {
      "name": "python"
    }
  },
  "cells": [
    {
      "cell_type": "markdown",
      "metadata": {
        "id": "view-in-github",
        "colab_type": "text"
      },
      "source": [
        "<a href=\"https://colab.research.google.com/github/rdkdaniel/Computer-Vision/blob/main/Cancer_Detection_(CTCs).ipynb\" target=\"_parent\"><img src=\"https://colab.research.google.com/assets/colab-badge.svg\" alt=\"Open In Colab\"/></a>"
      ]
    },
    {
      "cell_type": "markdown",
      "source": [
        "Key links: https://towardsdatascience.com/convolutional-neural-network-for-breast-cancer-classification-52f1213dcc9\n",
        "\n",
        "https://python.plainenglish.io/skin-cancer-detection-using-convolutional-neural-networks-38f386cdc6d7"
      ],
      "metadata": {
        "id": "d8HQshoLmb1-"
      }
    },
    {
      "cell_type": "markdown",
      "source": [
        "# **1. Skin Cancer**"
      ],
      "metadata": {
        "id": "dlYYnTCUmmqi"
      }
    },
    {
      "cell_type": "markdown",
      "source": [
        "**Data Prep**"
      ],
      "metadata": {
        "id": "7Gpk9hDWmsgm"
      }
    },
    {
      "cell_type": "code",
      "execution_count": null,
      "metadata": {
        "id": "x5IollfFCvNt"
      },
      "outputs": [],
      "source": []
    }
  ]
}