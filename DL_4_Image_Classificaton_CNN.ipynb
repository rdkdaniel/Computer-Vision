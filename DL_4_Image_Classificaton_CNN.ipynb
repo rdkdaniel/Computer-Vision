{
  "nbformat": 4,
  "nbformat_minor": 0,
  "metadata": {
    "colab": {
      "provenance": [],
      "authorship_tag": "ABX9TyO4UxzgQvOZNLmdILrRxO+D",
      "include_colab_link": true
    },
    "kernelspec": {
      "name": "python3",
      "display_name": "Python 3"
    },
    "language_info": {
      "name": "python"
    }
  },
  "cells": [
    {
      "cell_type": "markdown",
      "metadata": {
        "id": "view-in-github",
        "colab_type": "text"
      },
      "source": [
        "<a href=\"https://colab.research.google.com/github/rdkdaniel/Computer-Vision/blob/main/DL_4_Image_Classificaton_CNN.ipynb\" target=\"_parent\"><img src=\"https://colab.research.google.com/assets/colab-badge.svg\" alt=\"Open In Colab\"/></a>"
      ]
    },
    {
      "cell_type": "code",
      "execution_count": null,
      "metadata": {
        "id": "5r_rmmbFMha_"
      },
      "outputs": [],
      "source": [
        "#https://www.projectpro.io/article/deep-learning-for-image-classification-in-python-with-cnn/418"
      ]
    }
  ]
}